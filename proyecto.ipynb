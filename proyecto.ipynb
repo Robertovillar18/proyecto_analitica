{
  "nbformat": 4,
  "nbformat_minor": 0,
  "metadata": {
    "colab": {
      "provenance": [],
      "collapsed_sections": []
    },
    "kernelspec": {
      "name": "python3",
      "display_name": "Python 3"
    },
    "language_info": {
      "name": "python"
    }
  },
  "cells": [
    {
      "cell_type": "code",
      "source": [
        "# Importar librerías necesarias\n",
        "import pandas as pd\n",
        "import numpy as np\n",
        "import matplotlib.pyplot as plt\n",
        "import seaborn as sns"
      ],
      "metadata": {
        "id": "oU1QLCjGGDIc"
      },
      "execution_count": null,
      "outputs": []
    },
    {
      "cell_type": "code",
      "source": [
        "#Primero descargamos el data set\n",
        "df = pd.read_csv(\"Bank Transactions Analitica Empresarial.csv\")\n",
        "# display(df)"
      ],
      "metadata": {
        "id": "g_kYjXMAy_4z"
      },
      "execution_count": null,
      "outputs": []
    },
    {
      "cell_type": "code",
      "source": [
        "#Observamos que el dataset se haya cargado bien\n",
        "df.head()"
      ],
      "metadata": {
        "colab": {
          "base_uri": "https://localhost:8080/",
          "height": 300
        },
        "id": "5e9jIdRrz70i",
        "outputId": "9c200bda-3057-48ed-9b24-f45835ea1493"
      },
      "execution_count": null,
      "outputs": [
        {
          "output_type": "execute_result",
          "data": {
            "text/plain": [
              "   CLIENTNUM     Attrition_Flag  Customer_Age Gender  Dependent_count  \\\n",
              "0  768805383  Existing Customer            45      M                3   \n",
              "1  818770008  Existing Customer            49      F                5   \n",
              "2  713982108  Existing Customer            51      M                3   \n",
              "3  769911858  Existing Customer            40      F                4   \n",
              "4  709106358  Existing Customer            40      M                3   \n",
              "\n",
              "  Education_Level Marital_Status Income_Category Card_Category  \\\n",
              "0     High School        Married     $60K - $80K          Blue   \n",
              "1        Graduate         Single  Less than $40K          Blue   \n",
              "2        Graduate        Married    $80K - $120K          Blue   \n",
              "3     High School        Unknown  Less than $40K          Blue   \n",
              "4      Uneducated        Married     $60K - $80K          Blue   \n",
              "\n",
              "   Months_on_book  ...  Credit_Limit  Total_Revolving_Bal  Avg_Open_To_Buy  \\\n",
              "0              39  ...       12691.0                  777          11914.0   \n",
              "1              44  ...        8256.0                  864           7392.0   \n",
              "2              36  ...        3418.0                    0           3418.0   \n",
              "3              34  ...        3313.0                 2517            796.0   \n",
              "4              21  ...        4716.0                    0           4716.0   \n",
              "\n",
              "   Total_Amt_Chng_Q4_Q1  Total_Trans_Amt  Total_Trans_Ct  Total_Ct_Chng_Q4_Q1  \\\n",
              "0                 1.335             1144              42                1.625   \n",
              "1                 1.541             1291              33                3.714   \n",
              "2                 2.594             1887              20                2.333   \n",
              "3                 1.405             1171              20                2.333   \n",
              "4                 2.175              816              28                2.500   \n",
              "\n",
              "   Avg_Utilization_Ratio  \\\n",
              "0                  0.061   \n",
              "1                  0.105   \n",
              "2                  0.000   \n",
              "3                  0.760   \n",
              "4                  0.000   \n",
              "\n",
              "   Naive_Bayes_Classifier_Attrition_Flag_Card_Category_Contacts_Count_12_mon_Dependent_count_Education_Level_Months_Inactive_12_mon_1  \\\n",
              "0                                           0.000093                                                                                    \n",
              "1                                           0.000057                                                                                    \n",
              "2                                           0.000021                                                                                    \n",
              "3                                           0.000134                                                                                    \n",
              "4                                           0.000022                                                                                    \n",
              "\n",
              "   Naive_Bayes_Classifier_Attrition_Flag_Card_Category_Contacts_Count_12_mon_Dependent_count_Education_Level_Months_Inactive_12_mon_2  \n",
              "0                                            0.99991                                                                                   \n",
              "1                                            0.99994                                                                                   \n",
              "2                                            0.99998                                                                                   \n",
              "3                                            0.99987                                                                                   \n",
              "4                                            0.99998                                                                                   \n",
              "\n",
              "[5 rows x 23 columns]"
            ],
            "text/html": [
              "\n",
              "  <div id=\"df-e679d4a1-83b7-4854-bdd8-c217ad8b14d9\">\n",
              "    <div class=\"colab-df-container\">\n",
              "      <div>\n",
              "<style scoped>\n",
              "    .dataframe tbody tr th:only-of-type {\n",
              "        vertical-align: middle;\n",
              "    }\n",
              "\n",
              "    .dataframe tbody tr th {\n",
              "        vertical-align: top;\n",
              "    }\n",
              "\n",
              "    .dataframe thead th {\n",
              "        text-align: right;\n",
              "    }\n",
              "</style>\n",
              "<table border=\"1\" class=\"dataframe\">\n",
              "  <thead>\n",
              "    <tr style=\"text-align: right;\">\n",
              "      <th></th>\n",
              "      <th>CLIENTNUM</th>\n",
              "      <th>Attrition_Flag</th>\n",
              "      <th>Customer_Age</th>\n",
              "      <th>Gender</th>\n",
              "      <th>Dependent_count</th>\n",
              "      <th>Education_Level</th>\n",
              "      <th>Marital_Status</th>\n",
              "      <th>Income_Category</th>\n",
              "      <th>Card_Category</th>\n",
              "      <th>Months_on_book</th>\n",
              "      <th>...</th>\n",
              "      <th>Credit_Limit</th>\n",
              "      <th>Total_Revolving_Bal</th>\n",
              "      <th>Avg_Open_To_Buy</th>\n",
              "      <th>Total_Amt_Chng_Q4_Q1</th>\n",
              "      <th>Total_Trans_Amt</th>\n",
              "      <th>Total_Trans_Ct</th>\n",
              "      <th>Total_Ct_Chng_Q4_Q1</th>\n",
              "      <th>Avg_Utilization_Ratio</th>\n",
              "      <th>Naive_Bayes_Classifier_Attrition_Flag_Card_Category_Contacts_Count_12_mon_Dependent_count_Education_Level_Months_Inactive_12_mon_1</th>\n",
              "      <th>Naive_Bayes_Classifier_Attrition_Flag_Card_Category_Contacts_Count_12_mon_Dependent_count_Education_Level_Months_Inactive_12_mon_2</th>\n",
              "    </tr>\n",
              "  </thead>\n",
              "  <tbody>\n",
              "    <tr>\n",
              "      <th>0</th>\n",
              "      <td>768805383</td>\n",
              "      <td>Existing Customer</td>\n",
              "      <td>45</td>\n",
              "      <td>M</td>\n",
              "      <td>3</td>\n",
              "      <td>High School</td>\n",
              "      <td>Married</td>\n",
              "      <td>$60K - $80K</td>\n",
              "      <td>Blue</td>\n",
              "      <td>39</td>\n",
              "      <td>...</td>\n",
              "      <td>12691.0</td>\n",
              "      <td>777</td>\n",
              "      <td>11914.0</td>\n",
              "      <td>1.335</td>\n",
              "      <td>1144</td>\n",
              "      <td>42</td>\n",
              "      <td>1.625</td>\n",
              "      <td>0.061</td>\n",
              "      <td>0.000093</td>\n",
              "      <td>0.99991</td>\n",
              "    </tr>\n",
              "    <tr>\n",
              "      <th>1</th>\n",
              "      <td>818770008</td>\n",
              "      <td>Existing Customer</td>\n",
              "      <td>49</td>\n",
              "      <td>F</td>\n",
              "      <td>5</td>\n",
              "      <td>Graduate</td>\n",
              "      <td>Single</td>\n",
              "      <td>Less than $40K</td>\n",
              "      <td>Blue</td>\n",
              "      <td>44</td>\n",
              "      <td>...</td>\n",
              "      <td>8256.0</td>\n",
              "      <td>864</td>\n",
              "      <td>7392.0</td>\n",
              "      <td>1.541</td>\n",
              "      <td>1291</td>\n",
              "      <td>33</td>\n",
              "      <td>3.714</td>\n",
              "      <td>0.105</td>\n",
              "      <td>0.000057</td>\n",
              "      <td>0.99994</td>\n",
              "    </tr>\n",
              "    <tr>\n",
              "      <th>2</th>\n",
              "      <td>713982108</td>\n",
              "      <td>Existing Customer</td>\n",
              "      <td>51</td>\n",
              "      <td>M</td>\n",
              "      <td>3</td>\n",
              "      <td>Graduate</td>\n",
              "      <td>Married</td>\n",
              "      <td>$80K - $120K</td>\n",
              "      <td>Blue</td>\n",
              "      <td>36</td>\n",
              "      <td>...</td>\n",
              "      <td>3418.0</td>\n",
              "      <td>0</td>\n",
              "      <td>3418.0</td>\n",
              "      <td>2.594</td>\n",
              "      <td>1887</td>\n",
              "      <td>20</td>\n",
              "      <td>2.333</td>\n",
              "      <td>0.000</td>\n",
              "      <td>0.000021</td>\n",
              "      <td>0.99998</td>\n",
              "    </tr>\n",
              "    <tr>\n",
              "      <th>3</th>\n",
              "      <td>769911858</td>\n",
              "      <td>Existing Customer</td>\n",
              "      <td>40</td>\n",
              "      <td>F</td>\n",
              "      <td>4</td>\n",
              "      <td>High School</td>\n",
              "      <td>Unknown</td>\n",
              "      <td>Less than $40K</td>\n",
              "      <td>Blue</td>\n",
              "      <td>34</td>\n",
              "      <td>...</td>\n",
              "      <td>3313.0</td>\n",
              "      <td>2517</td>\n",
              "      <td>796.0</td>\n",
              "      <td>1.405</td>\n",
              "      <td>1171</td>\n",
              "      <td>20</td>\n",
              "      <td>2.333</td>\n",
              "      <td>0.760</td>\n",
              "      <td>0.000134</td>\n",
              "      <td>0.99987</td>\n",
              "    </tr>\n",
              "    <tr>\n",
              "      <th>4</th>\n",
              "      <td>709106358</td>\n",
              "      <td>Existing Customer</td>\n",
              "      <td>40</td>\n",
              "      <td>M</td>\n",
              "      <td>3</td>\n",
              "      <td>Uneducated</td>\n",
              "      <td>Married</td>\n",
              "      <td>$60K - $80K</td>\n",
              "      <td>Blue</td>\n",
              "      <td>21</td>\n",
              "      <td>...</td>\n",
              "      <td>4716.0</td>\n",
              "      <td>0</td>\n",
              "      <td>4716.0</td>\n",
              "      <td>2.175</td>\n",
              "      <td>816</td>\n",
              "      <td>28</td>\n",
              "      <td>2.500</td>\n",
              "      <td>0.000</td>\n",
              "      <td>0.000022</td>\n",
              "      <td>0.99998</td>\n",
              "    </tr>\n",
              "  </tbody>\n",
              "</table>\n",
              "<p>5 rows × 23 columns</p>\n",
              "</div>\n",
              "      <button class=\"colab-df-convert\" onclick=\"convertToInteractive('df-e679d4a1-83b7-4854-bdd8-c217ad8b14d9')\"\n",
              "              title=\"Convert this dataframe to an interactive table.\"\n",
              "              style=\"display:none;\">\n",
              "        \n",
              "  <svg xmlns=\"http://www.w3.org/2000/svg\" height=\"24px\"viewBox=\"0 0 24 24\"\n",
              "       width=\"24px\">\n",
              "    <path d=\"M0 0h24v24H0V0z\" fill=\"none\"/>\n",
              "    <path d=\"M18.56 5.44l.94 2.06.94-2.06 2.06-.94-2.06-.94-.94-2.06-.94 2.06-2.06.94zm-11 1L8.5 8.5l.94-2.06 2.06-.94-2.06-.94L8.5 2.5l-.94 2.06-2.06.94zm10 10l.94 2.06.94-2.06 2.06-.94-2.06-.94-.94-2.06-.94 2.06-2.06.94z\"/><path d=\"M17.41 7.96l-1.37-1.37c-.4-.4-.92-.59-1.43-.59-.52 0-1.04.2-1.43.59L10.3 9.45l-7.72 7.72c-.78.78-.78 2.05 0 2.83L4 21.41c.39.39.9.59 1.41.59.51 0 1.02-.2 1.41-.59l7.78-7.78 2.81-2.81c.8-.78.8-2.07 0-2.86zM5.41 20L4 18.59l7.72-7.72 1.47 1.35L5.41 20z\"/>\n",
              "  </svg>\n",
              "      </button>\n",
              "      \n",
              "  <style>\n",
              "    .colab-df-container {\n",
              "      display:flex;\n",
              "      flex-wrap:wrap;\n",
              "      gap: 12px;\n",
              "    }\n",
              "\n",
              "    .colab-df-convert {\n",
              "      background-color: #E8F0FE;\n",
              "      border: none;\n",
              "      border-radius: 50%;\n",
              "      cursor: pointer;\n",
              "      display: none;\n",
              "      fill: #1967D2;\n",
              "      height: 32px;\n",
              "      padding: 0 0 0 0;\n",
              "      width: 32px;\n",
              "    }\n",
              "\n",
              "    .colab-df-convert:hover {\n",
              "      background-color: #E2EBFA;\n",
              "      box-shadow: 0px 1px 2px rgba(60, 64, 67, 0.3), 0px 1px 3px 1px rgba(60, 64, 67, 0.15);\n",
              "      fill: #174EA6;\n",
              "    }\n",
              "\n",
              "    [theme=dark] .colab-df-convert {\n",
              "      background-color: #3B4455;\n",
              "      fill: #D2E3FC;\n",
              "    }\n",
              "\n",
              "    [theme=dark] .colab-df-convert:hover {\n",
              "      background-color: #434B5C;\n",
              "      box-shadow: 0px 1px 3px 1px rgba(0, 0, 0, 0.15);\n",
              "      filter: drop-shadow(0px 1px 2px rgba(0, 0, 0, 0.3));\n",
              "      fill: #FFFFFF;\n",
              "    }\n",
              "  </style>\n",
              "\n",
              "      <script>\n",
              "        const buttonEl =\n",
              "          document.querySelector('#df-e679d4a1-83b7-4854-bdd8-c217ad8b14d9 button.colab-df-convert');\n",
              "        buttonEl.style.display =\n",
              "          google.colab.kernel.accessAllowed ? 'block' : 'none';\n",
              "\n",
              "        async function convertToInteractive(key) {\n",
              "          const element = document.querySelector('#df-e679d4a1-83b7-4854-bdd8-c217ad8b14d9');\n",
              "          const dataTable =\n",
              "            await google.colab.kernel.invokeFunction('convertToInteractive',\n",
              "                                                     [key], {});\n",
              "          if (!dataTable) return;\n",
              "\n",
              "          const docLinkHtml = 'Like what you see? Visit the ' +\n",
              "            '<a target=\"_blank\" href=https://colab.research.google.com/notebooks/data_table.ipynb>data table notebook</a>'\n",
              "            + ' to learn more about interactive tables.';\n",
              "          element.innerHTML = '';\n",
              "          dataTable['output_type'] = 'display_data';\n",
              "          await google.colab.output.renderOutput(dataTable, element);\n",
              "          const docLink = document.createElement('div');\n",
              "          docLink.innerHTML = docLinkHtml;\n",
              "          element.appendChild(docLink);\n",
              "        }\n",
              "      </script>\n",
              "    </div>\n",
              "  </div>\n",
              "  "
            ]
          },
          "metadata": {},
          "execution_count": 3
        }
      ]
    },
    {
      "cell_type": "code",
      "source": [
        "# Mostrar el tipo de valor que se tiene en cada columna y la cantidad de valores no nulos\n",
        "df.info()"
      ],
      "metadata": {
        "id": "HfaWyOWa1KW7",
        "colab": {
          "base_uri": "https://localhost:8080/"
        },
        "outputId": "655b16bd-5ceb-4e4f-a218-a994f17ebb94"
      },
      "execution_count": null,
      "outputs": [
        {
          "output_type": "stream",
          "name": "stdout",
          "text": [
            "<class 'pandas.core.frame.DataFrame'>\n",
            "RangeIndex: 10127 entries, 0 to 10126\n",
            "Data columns (total 23 columns):\n",
            " #   Column                                                                                                                              Non-Null Count  Dtype  \n",
            "---  ------                                                                                                                              --------------  -----  \n",
            " 0   CLIENTNUM                                                                                                                           10127 non-null  int64  \n",
            " 1   Attrition_Flag                                                                                                                      10127 non-null  object \n",
            " 2   Customer_Age                                                                                                                        10127 non-null  int64  \n",
            " 3   Gender                                                                                                                              10127 non-null  object \n",
            " 4   Dependent_count                                                                                                                     10127 non-null  int64  \n",
            " 5   Education_Level                                                                                                                     10127 non-null  object \n",
            " 6   Marital_Status                                                                                                                      10127 non-null  object \n",
            " 7   Income_Category                                                                                                                     10127 non-null  object \n",
            " 8   Card_Category                                                                                                                       10127 non-null  object \n",
            " 9   Months_on_book                                                                                                                      10127 non-null  int64  \n",
            " 10  Total_Relationship_Count                                                                                                            10127 non-null  int64  \n",
            " 11  Months_Inactive_12_mon                                                                                                              10127 non-null  int64  \n",
            " 12  Contacts_Count_12_mon                                                                                                               10127 non-null  int64  \n",
            " 13  Credit_Limit                                                                                                                        10127 non-null  float64\n",
            " 14  Total_Revolving_Bal                                                                                                                 10127 non-null  int64  \n",
            " 15  Avg_Open_To_Buy                                                                                                                     10127 non-null  float64\n",
            " 16  Total_Amt_Chng_Q4_Q1                                                                                                                10127 non-null  float64\n",
            " 17  Total_Trans_Amt                                                                                                                     10127 non-null  int64  \n",
            " 18  Total_Trans_Ct                                                                                                                      10127 non-null  int64  \n",
            " 19  Total_Ct_Chng_Q4_Q1                                                                                                                 10127 non-null  float64\n",
            " 20  Avg_Utilization_Ratio                                                                                                               10127 non-null  float64\n",
            " 21  Naive_Bayes_Classifier_Attrition_Flag_Card_Category_Contacts_Count_12_mon_Dependent_count_Education_Level_Months_Inactive_12_mon_1  10127 non-null  float64\n",
            " 22  Naive_Bayes_Classifier_Attrition_Flag_Card_Category_Contacts_Count_12_mon_Dependent_count_Education_Level_Months_Inactive_12_mon_2  10127 non-null  float64\n",
            "dtypes: float64(7), int64(10), object(6)\n",
            "memory usage: 1.8+ MB\n"
          ]
        }
      ]
    },
    {
      "cell_type": "code",
      "source": [
        "# Eliminamos las columnas innecesarias para el proyecto\n",
        "datos = df.drop([\"Naive_Bayes_Classifier_Attrition_Flag_Card_Category_Contacts_Count_12_mon_Dependent_count_Education_Level_Months_Inactive_12_mon_1\",\"Naive_Bayes_Classifier_Attrition_Flag_Card_Category_Contacts_Count_12_mon_Dependent_count_Education_Level_Months_Inactive_12_mon_2\",\"CLIENTNUM\"],axis=1)"
      ],
      "metadata": {
        "id": "c60LgQ66JsrN"
      },
      "execution_count": null,
      "outputs": []
    },
    {
      "cell_type": "code",
      "source": [
        "# Mostrar 5 datos aleatorios del dataset\n",
        "datos.sample(5)"
      ],
      "metadata": {
        "colab": {
          "base_uri": "https://localhost:8080/",
          "height": 270
        },
        "id": "g0UUmdqLKisk",
        "outputId": "fb8a231e-1113-4abd-a070-598bf3addff4"
      },
      "execution_count": null,
      "outputs": [
        {
          "output_type": "execute_result",
          "data": {
            "text/plain": [
              "         Attrition_Flag  Customer_Age Gender  Dependent_count Education_Level  \\\n",
              "8507  Attrited Customer            55      F                1         Unknown   \n",
              "902   Existing Customer            41      M                2         Unknown   \n",
              "6052  Existing Customer            43      F                2      Uneducated   \n",
              "325   Existing Customer            34      M                3     High School   \n",
              "97    Existing Customer            53      M                3       Doctorate   \n",
              "\n",
              "     Marital_Status Income_Category Card_Category  Months_on_book  \\\n",
              "8507        Unknown  Less than $40K          Blue              36   \n",
              "902          Single     $60K - $80K          Blue              24   \n",
              "6052       Divorced  Less than $40K          Blue              31   \n",
              "325         Married     $60K - $80K          Blue              26   \n",
              "97          Married     $40K - $60K          Blue              35   \n",
              "\n",
              "      Total_Relationship_Count  Months_Inactive_12_mon  Contacts_Count_12_mon  \\\n",
              "8507                         2                       3                      2   \n",
              "902                          6                       2                      2   \n",
              "6052                         5                       3                      1   \n",
              "325                          4                       3                      3   \n",
              "97                           5                       3                      2   \n",
              "\n",
              "      Credit_Limit  Total_Revolving_Bal  Avg_Open_To_Buy  \\\n",
              "8507        3626.0                  795           2831.0   \n",
              "902        17298.0                 2310          14988.0   \n",
              "6052        4332.0                 1313           3019.0   \n",
              "325         3265.0                 2517            748.0   \n",
              "97          3789.0                 1706           2083.0   \n",
              "\n",
              "      Total_Amt_Chng_Q4_Q1  Total_Trans_Amt  Total_Trans_Ct  \\\n",
              "8507                 0.896             2954              42   \n",
              "902                  0.844             3663              65   \n",
              "6052                 0.671             4093              84   \n",
              "325                  0.952             1843              35   \n",
              "97                   1.047             1609              42   \n",
              "\n",
              "      Total_Ct_Chng_Q4_Q1  Avg_Utilization_Ratio  \n",
              "8507                0.556                  0.219  \n",
              "902                 0.806                  0.134  \n",
              "6052                0.826                  0.303  \n",
              "325                 0.944                  0.771  \n",
              "97                  0.680                  0.450  "
            ],
            "text/html": [
              "\n",
              "  <div id=\"df-dd3b6cef-f434-4b95-9f40-40f293288864\">\n",
              "    <div class=\"colab-df-container\">\n",
              "      <div>\n",
              "<style scoped>\n",
              "    .dataframe tbody tr th:only-of-type {\n",
              "        vertical-align: middle;\n",
              "    }\n",
              "\n",
              "    .dataframe tbody tr th {\n",
              "        vertical-align: top;\n",
              "    }\n",
              "\n",
              "    .dataframe thead th {\n",
              "        text-align: right;\n",
              "    }\n",
              "</style>\n",
              "<table border=\"1\" class=\"dataframe\">\n",
              "  <thead>\n",
              "    <tr style=\"text-align: right;\">\n",
              "      <th></th>\n",
              "      <th>Attrition_Flag</th>\n",
              "      <th>Customer_Age</th>\n",
              "      <th>Gender</th>\n",
              "      <th>Dependent_count</th>\n",
              "      <th>Education_Level</th>\n",
              "      <th>Marital_Status</th>\n",
              "      <th>Income_Category</th>\n",
              "      <th>Card_Category</th>\n",
              "      <th>Months_on_book</th>\n",
              "      <th>Total_Relationship_Count</th>\n",
              "      <th>Months_Inactive_12_mon</th>\n",
              "      <th>Contacts_Count_12_mon</th>\n",
              "      <th>Credit_Limit</th>\n",
              "      <th>Total_Revolving_Bal</th>\n",
              "      <th>Avg_Open_To_Buy</th>\n",
              "      <th>Total_Amt_Chng_Q4_Q1</th>\n",
              "      <th>Total_Trans_Amt</th>\n",
              "      <th>Total_Trans_Ct</th>\n",
              "      <th>Total_Ct_Chng_Q4_Q1</th>\n",
              "      <th>Avg_Utilization_Ratio</th>\n",
              "    </tr>\n",
              "  </thead>\n",
              "  <tbody>\n",
              "    <tr>\n",
              "      <th>8507</th>\n",
              "      <td>Attrited Customer</td>\n",
              "      <td>55</td>\n",
              "      <td>F</td>\n",
              "      <td>1</td>\n",
              "      <td>Unknown</td>\n",
              "      <td>Unknown</td>\n",
              "      <td>Less than $40K</td>\n",
              "      <td>Blue</td>\n",
              "      <td>36</td>\n",
              "      <td>2</td>\n",
              "      <td>3</td>\n",
              "      <td>2</td>\n",
              "      <td>3626.0</td>\n",
              "      <td>795</td>\n",
              "      <td>2831.0</td>\n",
              "      <td>0.896</td>\n",
              "      <td>2954</td>\n",
              "      <td>42</td>\n",
              "      <td>0.556</td>\n",
              "      <td>0.219</td>\n",
              "    </tr>\n",
              "    <tr>\n",
              "      <th>902</th>\n",
              "      <td>Existing Customer</td>\n",
              "      <td>41</td>\n",
              "      <td>M</td>\n",
              "      <td>2</td>\n",
              "      <td>Unknown</td>\n",
              "      <td>Single</td>\n",
              "      <td>$60K - $80K</td>\n",
              "      <td>Blue</td>\n",
              "      <td>24</td>\n",
              "      <td>6</td>\n",
              "      <td>2</td>\n",
              "      <td>2</td>\n",
              "      <td>17298.0</td>\n",
              "      <td>2310</td>\n",
              "      <td>14988.0</td>\n",
              "      <td>0.844</td>\n",
              "      <td>3663</td>\n",
              "      <td>65</td>\n",
              "      <td>0.806</td>\n",
              "      <td>0.134</td>\n",
              "    </tr>\n",
              "    <tr>\n",
              "      <th>6052</th>\n",
              "      <td>Existing Customer</td>\n",
              "      <td>43</td>\n",
              "      <td>F</td>\n",
              "      <td>2</td>\n",
              "      <td>Uneducated</td>\n",
              "      <td>Divorced</td>\n",
              "      <td>Less than $40K</td>\n",
              "      <td>Blue</td>\n",
              "      <td>31</td>\n",
              "      <td>5</td>\n",
              "      <td>3</td>\n",
              "      <td>1</td>\n",
              "      <td>4332.0</td>\n",
              "      <td>1313</td>\n",
              "      <td>3019.0</td>\n",
              "      <td>0.671</td>\n",
              "      <td>4093</td>\n",
              "      <td>84</td>\n",
              "      <td>0.826</td>\n",
              "      <td>0.303</td>\n",
              "    </tr>\n",
              "    <tr>\n",
              "      <th>325</th>\n",
              "      <td>Existing Customer</td>\n",
              "      <td>34</td>\n",
              "      <td>M</td>\n",
              "      <td>3</td>\n",
              "      <td>High School</td>\n",
              "      <td>Married</td>\n",
              "      <td>$60K - $80K</td>\n",
              "      <td>Blue</td>\n",
              "      <td>26</td>\n",
              "      <td>4</td>\n",
              "      <td>3</td>\n",
              "      <td>3</td>\n",
              "      <td>3265.0</td>\n",
              "      <td>2517</td>\n",
              "      <td>748.0</td>\n",
              "      <td>0.952</td>\n",
              "      <td>1843</td>\n",
              "      <td>35</td>\n",
              "      <td>0.944</td>\n",
              "      <td>0.771</td>\n",
              "    </tr>\n",
              "    <tr>\n",
              "      <th>97</th>\n",
              "      <td>Existing Customer</td>\n",
              "      <td>53</td>\n",
              "      <td>M</td>\n",
              "      <td>3</td>\n",
              "      <td>Doctorate</td>\n",
              "      <td>Married</td>\n",
              "      <td>$40K - $60K</td>\n",
              "      <td>Blue</td>\n",
              "      <td>35</td>\n",
              "      <td>5</td>\n",
              "      <td>3</td>\n",
              "      <td>2</td>\n",
              "      <td>3789.0</td>\n",
              "      <td>1706</td>\n",
              "      <td>2083.0</td>\n",
              "      <td>1.047</td>\n",
              "      <td>1609</td>\n",
              "      <td>42</td>\n",
              "      <td>0.680</td>\n",
              "      <td>0.450</td>\n",
              "    </tr>\n",
              "  </tbody>\n",
              "</table>\n",
              "</div>\n",
              "      <button class=\"colab-df-convert\" onclick=\"convertToInteractive('df-dd3b6cef-f434-4b95-9f40-40f293288864')\"\n",
              "              title=\"Convert this dataframe to an interactive table.\"\n",
              "              style=\"display:none;\">\n",
              "        \n",
              "  <svg xmlns=\"http://www.w3.org/2000/svg\" height=\"24px\"viewBox=\"0 0 24 24\"\n",
              "       width=\"24px\">\n",
              "    <path d=\"M0 0h24v24H0V0z\" fill=\"none\"/>\n",
              "    <path d=\"M18.56 5.44l.94 2.06.94-2.06 2.06-.94-2.06-.94-.94-2.06-.94 2.06-2.06.94zm-11 1L8.5 8.5l.94-2.06 2.06-.94-2.06-.94L8.5 2.5l-.94 2.06-2.06.94zm10 10l.94 2.06.94-2.06 2.06-.94-2.06-.94-.94-2.06-.94 2.06-2.06.94z\"/><path d=\"M17.41 7.96l-1.37-1.37c-.4-.4-.92-.59-1.43-.59-.52 0-1.04.2-1.43.59L10.3 9.45l-7.72 7.72c-.78.78-.78 2.05 0 2.83L4 21.41c.39.39.9.59 1.41.59.51 0 1.02-.2 1.41-.59l7.78-7.78 2.81-2.81c.8-.78.8-2.07 0-2.86zM5.41 20L4 18.59l7.72-7.72 1.47 1.35L5.41 20z\"/>\n",
              "  </svg>\n",
              "      </button>\n",
              "      \n",
              "  <style>\n",
              "    .colab-df-container {\n",
              "      display:flex;\n",
              "      flex-wrap:wrap;\n",
              "      gap: 12px;\n",
              "    }\n",
              "\n",
              "    .colab-df-convert {\n",
              "      background-color: #E8F0FE;\n",
              "      border: none;\n",
              "      border-radius: 50%;\n",
              "      cursor: pointer;\n",
              "      display: none;\n",
              "      fill: #1967D2;\n",
              "      height: 32px;\n",
              "      padding: 0 0 0 0;\n",
              "      width: 32px;\n",
              "    }\n",
              "\n",
              "    .colab-df-convert:hover {\n",
              "      background-color: #E2EBFA;\n",
              "      box-shadow: 0px 1px 2px rgba(60, 64, 67, 0.3), 0px 1px 3px 1px rgba(60, 64, 67, 0.15);\n",
              "      fill: #174EA6;\n",
              "    }\n",
              "\n",
              "    [theme=dark] .colab-df-convert {\n",
              "      background-color: #3B4455;\n",
              "      fill: #D2E3FC;\n",
              "    }\n",
              "\n",
              "    [theme=dark] .colab-df-convert:hover {\n",
              "      background-color: #434B5C;\n",
              "      box-shadow: 0px 1px 3px 1px rgba(0, 0, 0, 0.15);\n",
              "      filter: drop-shadow(0px 1px 2px rgba(0, 0, 0, 0.3));\n",
              "      fill: #FFFFFF;\n",
              "    }\n",
              "  </style>\n",
              "\n",
              "      <script>\n",
              "        const buttonEl =\n",
              "          document.querySelector('#df-dd3b6cef-f434-4b95-9f40-40f293288864 button.colab-df-convert');\n",
              "        buttonEl.style.display =\n",
              "          google.colab.kernel.accessAllowed ? 'block' : 'none';\n",
              "\n",
              "        async function convertToInteractive(key) {\n",
              "          const element = document.querySelector('#df-dd3b6cef-f434-4b95-9f40-40f293288864');\n",
              "          const dataTable =\n",
              "            await google.colab.kernel.invokeFunction('convertToInteractive',\n",
              "                                                     [key], {});\n",
              "          if (!dataTable) return;\n",
              "\n",
              "          const docLinkHtml = 'Like what you see? Visit the ' +\n",
              "            '<a target=\"_blank\" href=https://colab.research.google.com/notebooks/data_table.ipynb>data table notebook</a>'\n",
              "            + ' to learn more about interactive tables.';\n",
              "          element.innerHTML = '';\n",
              "          dataTable['output_type'] = 'display_data';\n",
              "          await google.colab.output.renderOutput(dataTable, element);\n",
              "          const docLink = document.createElement('div');\n",
              "          docLink.innerHTML = docLinkHtml;\n",
              "          element.appendChild(docLink);\n",
              "        }\n",
              "      </script>\n",
              "    </div>\n",
              "  </div>\n",
              "  "
            ]
          },
          "metadata": {},
          "execution_count": 6
        }
      ]
    },
    {
      "cell_type": "code",
      "source": [
        "# Verificar valores nulos (NaN) en todas las columnas\n",
        "datos.isna().sum()"
      ],
      "metadata": {
        "colab": {
          "base_uri": "https://localhost:8080/"
        },
        "id": "H7LAuuBHKmkA",
        "outputId": "3faa0995-7270-4d95-acdc-e0374ee18ef9"
      },
      "execution_count": null,
      "outputs": [
        {
          "output_type": "execute_result",
          "data": {
            "text/plain": [
              "Attrition_Flag              0\n",
              "Customer_Age                0\n",
              "Gender                      0\n",
              "Dependent_count             0\n",
              "Education_Level             0\n",
              "Marital_Status              0\n",
              "Income_Category             0\n",
              "Card_Category               0\n",
              "Months_on_book              0\n",
              "Total_Relationship_Count    0\n",
              "Months_Inactive_12_mon      0\n",
              "Contacts_Count_12_mon       0\n",
              "Credit_Limit                0\n",
              "Total_Revolving_Bal         0\n",
              "Avg_Open_To_Buy             0\n",
              "Total_Amt_Chng_Q4_Q1        0\n",
              "Total_Trans_Amt             0\n",
              "Total_Trans_Ct              0\n",
              "Total_Ct_Chng_Q4_Q1         0\n",
              "Avg_Utilization_Ratio       0\n",
              "dtype: int64"
            ]
          },
          "metadata": {},
          "execution_count": 7
        }
      ]
    },
    {
      "cell_type": "markdown",
      "source": [
        "El dataset no tiene valores nulos para ninguna de las columnas, por lo que la limpieza de estos valores no es necesaria en este caso.\n",
        "\n",
        "Para las variables categoricas, exploremos cuantas categorías hay para cada una.\n"
      ],
      "metadata": {
        "id": "njXMwfPf7IA7"
      }
    },
    {
      "cell_type": "code",
      "source": [
        "datos.info()"
      ],
      "metadata": {
        "colab": {
          "base_uri": "https://localhost:8080/"
        },
        "id": "KrW4uvX27qp3",
        "outputId": "69c0f991-19db-4059-f3c4-8a3a94de9f06"
      },
      "execution_count": null,
      "outputs": [
        {
          "output_type": "stream",
          "name": "stdout",
          "text": [
            "<class 'pandas.core.frame.DataFrame'>\n",
            "RangeIndex: 10127 entries, 0 to 10126\n",
            "Data columns (total 20 columns):\n",
            " #   Column                    Non-Null Count  Dtype  \n",
            "---  ------                    --------------  -----  \n",
            " 0   Attrition_Flag            10127 non-null  object \n",
            " 1   Customer_Age              10127 non-null  int64  \n",
            " 2   Gender                    10127 non-null  object \n",
            " 3   Dependent_count           10127 non-null  int64  \n",
            " 4   Education_Level           10127 non-null  object \n",
            " 5   Marital_Status            10127 non-null  object \n",
            " 6   Income_Category           10127 non-null  object \n",
            " 7   Card_Category             10127 non-null  object \n",
            " 8   Months_on_book            10127 non-null  int64  \n",
            " 9   Total_Relationship_Count  10127 non-null  int64  \n",
            " 10  Months_Inactive_12_mon    10127 non-null  int64  \n",
            " 11  Contacts_Count_12_mon     10127 non-null  int64  \n",
            " 12  Credit_Limit              10127 non-null  float64\n",
            " 13  Total_Revolving_Bal       10127 non-null  int64  \n",
            " 14  Avg_Open_To_Buy           10127 non-null  float64\n",
            " 15  Total_Amt_Chng_Q4_Q1      10127 non-null  float64\n",
            " 16  Total_Trans_Amt           10127 non-null  int64  \n",
            " 17  Total_Trans_Ct            10127 non-null  int64  \n",
            " 18  Total_Ct_Chng_Q4_Q1       10127 non-null  float64\n",
            " 19  Avg_Utilization_Ratio     10127 non-null  float64\n",
            "dtypes: float64(5), int64(9), object(6)\n",
            "memory usage: 1.5+ MB\n"
          ]
        }
      ]
    },
    {
      "cell_type": "code",
      "source": [
        "columnas_categoricas = ['Gender', 'Education_Level',\n",
        "                        'Marital_Status', 'Income_Category', 'Card_Category']\n",
        "# Mostrar la cantidad de categorias para cada columna categorica\n",
        "for col in columnas_categoricas:\n",
        "  sns.countplot(x=col, data=datos) # Mostrar la cantidad de datos por categoría en la columna en la gráfica\n",
        "  plt.title(f\"Categorías en la columna {col}\")\n",
        "  plt.xticks(rotation=90) # Rotar los nombres en el eje x 90 grados\n",
        "  plt.show()\n",
        "  print(\"\\n\\n\")"
      ],
      "metadata": {
        "colab": {
          "base_uri": "https://localhost:8080/",
          "height": 1000
        },
        "id": "NkAWh72h7n0M",
        "outputId": "eef6392a-d3f6-45ec-f8f2-76c0247e5526"
      },
      "execution_count": null,
      "outputs": [
        {
          "output_type": "display_data",
          "data": {
            "text/plain": [
              "<Figure size 432x288 with 1 Axes>"
            ],
            "image/png": "[encoded data removed]"
          },
          "metadata": {
            "needs_background": "light"
          }
        },
        {
          "output_type": "stream",
          "name": "stdout",
          "text": [
            "\n",
            "\n",
            "\n"
          ]
        },
        {
          "output_type": "display_data",
          "data": {
            "text/plain": [
              "<Figure size 432x288 with 1 Axes>"
            ],
            "image/png": "[encoded data removed]"
          },
          "metadata": {
            "needs_background": "light"
          }
        },
        {
          "output_type": "stream",
          "name": "stdout",
          "text": [
            "\n",
            "\n",
            "\n"
          ]
        },
        {
          "output_type": "display_data",
          "data": {
            "text/plain": [
              "<Figure size 432x288 with 1 Axes>"
            ],
            "image/png": "[encoded data removed]"
          },
          "metadata": {
            "needs_background": "light"
          }
        },
        {
          "output_type": "stream",
          "name": "stdout",
          "text": [
            "\n",
            "\n",
            "\n"
          ]
        },
        {
          "output_type": "display_data",
          "data": {
            "text/plain": [
              "<Figure size 432x288 with 1 Axes>"
            ],
            "image/png": "[encoded data removed]"
          },
          "metadata": {
            "needs_background": "light"
          }
        },
        {
          "output_type": "stream",
          "name": "stdout",
          "text": [
            "\n",
            "\n",
            "\n"
          ]
        },
        {
          "output_type": "display_data",
          "data": {
            "text/plain": [
              "<Figure size 432x288 with 1 Axes>"
            ],
            "image/png": "[encoded data removed]"
          },
          "metadata": {
            "needs_background": "light"
          }
        },
        {
          "output_type": "stream",
          "name": "stdout",
          "text": [
            "\n",
            "\n",
            "\n"
          ]
        }
      ]
    },
    {
      "cell_type": "code",
      "source": [
        "sns.countplot(x='Attrition_Flag', data=datos)\n",
        "plt.title(\"Categorías en la variable a predecir: Attrition Flag\")\n",
        "plt.show()"
      ],
      "metadata": {
        "colab": {
          "base_uri": "https://localhost:8080/",
          "height": 296
        },
        "id": "mzou5iIQHF_N",
        "outputId": "82dba991-5d34-4b24-c0cd-4b97abd23b07"
      },
      "execution_count": null,
      "outputs": [
        {
          "output_type": "display_data",
          "data": {
            "text/plain": [
              "<Figure size 432x288 with 1 Axes>"
            ],
            "image/png": "[encoded data removed]"
          },
          "metadata": {
            "needs_background": "light"
          }
        }
      ]
    },
    {
      "cell_type": "markdown",
      "source": [
        "Generar los dummy variables para las columnas categoricas."
      ],
      "metadata": {
        "id": "aOKGY5gc8y3P"
      }
    },
    {
      "cell_type": "code",
      "source": [
        "for col in columnas_categoricas:\n",
        "  temp_df = pd.get_dummies(datos[col])\n",
        "  # Unimos las nuevas columnas a la variable donde tenemos el dataset\n",
        "  datos = pd.concat([datos, temp_df], axis=1)\n",
        "# Mostramos los primeros 5 datos con las nuevas columnas\n",
        "datos.head()"
      ],
      "metadata": {
        "colab": {
          "base_uri": "https://localhost:8080/",
          "height": 334
        },
        "id": "KWQzBzX58yZM",
        "outputId": "932f07d3-dce0-4303-f76e-4fd45ac9363f"
      },
      "execution_count": null,
      "outputs": [
        {
          "output_type": "execute_result",
          "data": {
            "text/plain": [
              "      Attrition_Flag  Customer_Age Gender  Dependent_count Education_Level  \\\n",
              "0  Existing Customer            45      M                3     High School   \n",
              "1  Existing Customer            49      F                5        Graduate   \n",
              "2  Existing Customer            51      M                3        Graduate   \n",
              "3  Existing Customer            40      F                4     High School   \n",
              "4  Existing Customer            40      M                3      Uneducated   \n",
              "\n",
              "  Marital_Status Income_Category Card_Category  Months_on_book  \\\n",
              "0        Married     $60K - $80K          Blue              39   \n",
              "1         Single  Less than $40K          Blue              44   \n",
              "2        Married    $80K - $120K          Blue              36   \n",
              "3        Unknown  Less than $40K          Blue              34   \n",
              "4        Married     $60K - $80K          Blue              21   \n",
              "\n",
              "   Total_Relationship_Count  ...  $120K +  $40K - $60K  $60K - $80K  \\\n",
              "0                         5  ...        0            0            1   \n",
              "1                         6  ...        0            0            0   \n",
              "2                         4  ...        0            0            0   \n",
              "3                         3  ...        0            0            0   \n",
              "4                         5  ...        0            0            1   \n",
              "\n",
              "   $80K - $120K  Less than $40K  Unknown  Blue  Gold  Platinum  Silver  \n",
              "0             0               0        0     1     0         0       0  \n",
              "1             0               1        0     1     0         0       0  \n",
              "2             1               0        0     1     0         0       0  \n",
              "3             0               1        0     1     0         0       0  \n",
              "4             0               0        0     1     0         0       0  \n",
              "\n",
              "[5 rows x 43 columns]"
            ],
            "text/html": [
              "\n",
              "  <div id=\"df-36ce055f-af24-4937-8739-21875ec525c7\">\n",
              "    <div class=\"colab-df-container\">\n",
              "      <div>\n",
              "<style scoped>\n",
              "    .dataframe tbody tr th:only-of-type {\n",
              "        vertical-align: middle;\n",
              "    }\n",
              "\n",
              "    .dataframe tbody tr th {\n",
              "        vertical-align: top;\n",
              "    }\n",
              "\n",
              "    .dataframe thead th {\n",
              "        text-align: right;\n",
              "    }\n",
              "</style>\n",
              "<table border=\"1\" class=\"dataframe\">\n",
              "  <thead>\n",
              "    <tr style=\"text-align: right;\">\n",
              "      <th></th>\n",
              "      <th>Attrition_Flag</th>\n",
              "      <th>Customer_Age</th>\n",
              "      <th>Gender</th>\n",
              "      <th>Dependent_count</th>\n",
              "      <th>Education_Level</th>\n",
              "      <th>Marital_Status</th>\n",
              "      <th>Income_Category</th>\n",
              "      <th>Card_Category</th>\n",
              "      <th>Months_on_book</th>\n",
              "      <th>Total_Relationship_Count</th>\n",
              "      <th>...</th>\n",
              "      <th>$120K +</th>\n",
              "      <th>$40K - $60K</th>\n",
              "      <th>$60K - $80K</th>\n",
              "      <th>$80K - $120K</th>\n",
              "      <th>Less than $40K</th>\n",
              "      <th>Unknown</th>\n",
              "      <th>Blue</th>\n",
              "      <th>Gold</th>\n",
              "      <th>Platinum</th>\n",
              "      <th>Silver</th>\n",
              "    </tr>\n",
              "  </thead>\n",
              "  <tbody>\n",
              "    <tr>\n",
              "      <th>0</th>\n",
              "      <td>Existing Customer</td>\n",
              "      <td>45</td>\n",
              "      <td>M</td>\n",
              "      <td>3</td>\n",
              "      <td>High School</td>\n",
              "      <td>Married</td>\n",
              "      <td>$60K - $80K</td>\n",
              "      <td>Blue</td>\n",
              "      <td>39</td>\n",
              "      <td>5</td>\n",
              "      <td>...</td>\n",
              "      <td>0</td>\n",
              "      <td>0</td>\n",
              "      <td>1</td>\n",
              "      <td>0</td>\n",
              "      <td>0</td>\n",
              "      <td>0</td>\n",
              "      <td>1</td>\n",
              "      <td>0</td>\n",
              "      <td>0</td>\n",
              "      <td>0</td>\n",
              "    </tr>\n",
              "    <tr>\n",
              "      <th>1</th>\n",
              "      <td>Existing Customer</td>\n",
              "      <td>49</td>\n",
              "      <td>F</td>\n",
              "      <td>5</td>\n",
              "      <td>Graduate</td>\n",
              "      <td>Single</td>\n",
              "      <td>Less than $40K</td>\n",
              "      <td>Blue</td>\n",
              "      <td>44</td>\n",
              "      <td>6</td>\n",
              "      <td>...</td>\n",
              "      <td>0</td>\n",
              "      <td>0</td>\n",
              "      <td>0</td>\n",
              "      <td>0</td>\n",
              "      <td>1</td>\n",
              "      <td>0</td>\n",
              "      <td>1</td>\n",
              "      <td>0</td>\n",
              "      <td>0</td>\n",
              "      <td>0</td>\n",
              "    </tr>\n",
              "    <tr>\n",
              "      <th>2</th>\n",
              "      <td>Existing Customer</td>\n",
              "      <td>51</td>\n",
              "      <td>M</td>\n",
              "      <td>3</td>\n",
              "      <td>Graduate</td>\n",
              "      <td>Married</td>\n",
              "      <td>$80K - $120K</td>\n",
              "      <td>Blue</td>\n",
              "      <td>36</td>\n",
              "      <td>4</td>\n",
              "      <td>...</td>\n",
              "      <td>0</td>\n",
              "      <td>0</td>\n",
              "      <td>0</td>\n",
              "      <td>1</td>\n",
              "      <td>0</td>\n",
              "      <td>0</td>\n",
              "      <td>1</td>\n",
              "      <td>0</td>\n",
              "      <td>0</td>\n",
              "      <td>0</td>\n",
              "    </tr>\n",
              "    <tr>\n",
              "      <th>3</th>\n",
              "      <td>Existing Customer</td>\n",
              "      <td>40</td>\n",
              "      <td>F</td>\n",
              "      <td>4</td>\n",
              "      <td>High School</td>\n",
              "      <td>Unknown</td>\n",
              "      <td>Less than $40K</td>\n",
              "      <td>Blue</td>\n",
              "      <td>34</td>\n",
              "      <td>3</td>\n",
              "      <td>...</td>\n",
              "      <td>0</td>\n",
              "      <td>0</td>\n",
              "      <td>0</td>\n",
              "      <td>0</td>\n",
              "      <td>1</td>\n",
              "      <td>0</td>\n",
              "      <td>1</td>\n",
              "      <td>0</td>\n",
              "      <td>0</td>\n",
              "      <td>0</td>\n",
              "    </tr>\n",
              "    <tr>\n",
              "      <th>4</th>\n",
              "      <td>Existing Customer</td>\n",
              "      <td>40</td>\n",
              "      <td>M</td>\n",
              "      <td>3</td>\n",
              "      <td>Uneducated</td>\n",
              "      <td>Married</td>\n",
              "      <td>$60K - $80K</td>\n",
              "      <td>Blue</td>\n",
              "      <td>21</td>\n",
              "      <td>5</td>\n",
              "      <td>...</td>\n",
              "      <td>0</td>\n",
              "      <td>0</td>\n",
              "      <td>1</td>\n",
              "      <td>0</td>\n",
              "      <td>0</td>\n",
              "      <td>0</td>\n",
              "      <td>1</td>\n",
              "      <td>0</td>\n",
              "      <td>0</td>\n",
              "      <td>0</td>\n",
              "    </tr>\n",
              "  </tbody>\n",
              "</table>\n",
              "<p>5 rows × 43 columns</p>\n",
              "</div>\n",
              "      <button class=\"colab-df-convert\" onclick=\"convertToInteractive('df-36ce055f-af24-4937-8739-21875ec525c7')\"\n",
              "              title=\"Convert this dataframe to an interactive table.\"\n",
              "              style=\"display:none;\">\n",
              "        \n",
              "  <svg xmlns=\"http://www.w3.org/2000/svg\" height=\"24px\"viewBox=\"0 0 24 24\"\n",
              "       width=\"24px\">\n",
              "    <path d=\"M0 0h24v24H0V0z\" fill=\"none\"/>\n",
              "    <path d=\"M18.56 5.44l.94 2.06.94-2.06 2.06-.94-2.06-.94-.94-2.06-.94 2.06-2.06.94zm-11 1L8.5 8.5l.94-2.06 2.06-.94-2.06-.94L8.5 2.5l-.94 2.06-2.06.94zm10 10l.94 2.06.94-2.06 2.06-.94-2.06-.94-.94-2.06-.94 2.06-2.06.94z\"/><path d=\"M17.41 7.96l-1.37-1.37c-.4-.4-.92-.59-1.43-.59-.52 0-1.04.2-1.43.59L10.3 9.45l-7.72 7.72c-.78.78-.78 2.05 0 2.83L4 21.41c.39.39.9.59 1.41.59.51 0 1.02-.2 1.41-.59l7.78-7.78 2.81-2.81c.8-.78.8-2.07 0-2.86zM5.41 20L4 18.59l7.72-7.72 1.47 1.35L5.41 20z\"/>\n",
              "  </svg>\n",
              "      </button>\n",
              "      \n",
              "  <style>\n",
              "    .colab-df-container {\n",
              "      display:flex;\n",
              "      flex-wrap:wrap;\n",
              "      gap: 12px;\n",
              "    }\n",
              "\n",
              "    .colab-df-convert {\n",
              "      background-color: #E8F0FE;\n",
              "      border: none;\n",
              "      border-radius: 50%;\n",
              "      cursor: pointer;\n",
              "      display: none;\n",
              "      fill: #1967D2;\n",
              "      height: 32px;\n",
              "      padding: 0 0 0 0;\n",
              "      width: 32px;\n",
              "    }\n",
              "\n",
              "    .colab-df-convert:hover {\n",
              "      background-color: #E2EBFA;\n",
              "      box-shadow: 0px 1px 2px rgba(60, 64, 67, 0.3), 0px 1px 3px 1px rgba(60, 64, 67, 0.15);\n",
              "      fill: #174EA6;\n",
              "    }\n",
              "\n",
              "    [theme=dark] .colab-df-convert {\n",
              "      background-color: #3B4455;\n",
              "      fill: #D2E3FC;\n",
              "    }\n",
              "\n",
              "    [theme=dark] .colab-df-convert:hover {\n",
              "      background-color: #434B5C;\n",
              "      box-shadow: 0px 1px 3px 1px rgba(0, 0, 0, 0.15);\n",
              "      filter: drop-shadow(0px 1px 2px rgba(0, 0, 0, 0.3));\n",
              "      fill: #FFFFFF;\n",
              "    }\n",
              "  </style>\n",
              "\n",
              "      <script>\n",
              "        const buttonEl =\n",
              "          document.querySelector('#df-36ce055f-af24-4937-8739-21875ec525c7 button.colab-df-convert');\n",
              "        buttonEl.style.display =\n",
              "          google.colab.kernel.accessAllowed ? 'block' : 'none';\n",
              "\n",
              "        async function convertToInteractive(key) {\n",
              "          const element = document.querySelector('#df-36ce055f-af24-4937-8739-21875ec525c7');\n",
              "          const dataTable =\n",
              "            await google.colab.kernel.invokeFunction('convertToInteractive',\n",
              "                                                     [key], {});\n",
              "          if (!dataTable) return;\n",
              "\n",
              "          const docLinkHtml = 'Like what you see? Visit the ' +\n",
              "            '<a target=\"_blank\" href=https://colab.research.google.com/notebooks/data_table.ipynb>data table notebook</a>'\n",
              "            + ' to learn more about interactive tables.';\n",
              "          element.innerHTML = '';\n",
              "          dataTable['output_type'] = 'display_data';\n",
              "          await google.colab.output.renderOutput(dataTable, element);\n",
              "          const docLink = document.createElement('div');\n",
              "          docLink.innerHTML = docLinkHtml;\n",
              "          element.appendChild(docLink);\n",
              "        }\n",
              "      </script>\n",
              "    </div>\n",
              "  </div>\n",
              "  "
            ]
          },
          "metadata": {},
          "execution_count": 11
        }
      ]
    },
    {
      "cell_type": "code",
      "source": [
        "datos.info()"
      ],
      "metadata": {
        "colab": {
          "base_uri": "https://localhost:8080/"
        },
        "id": "bPAhrf7G-LRU",
        "outputId": "b0f31893-64ed-4a5c-ac12-130f3e964d80"
      },
      "execution_count": null,
      "outputs": [
        {
          "output_type": "stream",
          "name": "stdout",
          "text": [
            "<class 'pandas.core.frame.DataFrame'>\n",
            "RangeIndex: 10127 entries, 0 to 10126\n",
            "Data columns (total 43 columns):\n",
            " #   Column                    Non-Null Count  Dtype  \n",
            "---  ------                    --------------  -----  \n",
            " 0   Attrition_Flag            10127 non-null  object \n",
            " 1   Customer_Age              10127 non-null  int64  \n",
            " 2   Gender                    10127 non-null  object \n",
            " 3   Dependent_count           10127 non-null  int64  \n",
            " 4   Education_Level           10127 non-null  object \n",
            " 5   Marital_Status            10127 non-null  object \n",
            " 6   Income_Category           10127 non-null  object \n",
            " 7   Card_Category             10127 non-null  object \n",
            " 8   Months_on_book            10127 non-null  int64  \n",
            " 9   Total_Relationship_Count  10127 non-null  int64  \n",
            " 10  Months_Inactive_12_mon    10127 non-null  int64  \n",
            " 11  Contacts_Count_12_mon     10127 non-null  int64  \n",
            " 12  Credit_Limit              10127 non-null  float64\n",
            " 13  Total_Revolving_Bal       10127 non-null  int64  \n",
            " 14  Avg_Open_To_Buy           10127 non-null  float64\n",
            " 15  Total_Amt_Chng_Q4_Q1      10127 non-null  float64\n",
            " 16  Total_Trans_Amt           10127 non-null  int64  \n",
            " 17  Total_Trans_Ct            10127 non-null  int64  \n",
            " 18  Total_Ct_Chng_Q4_Q1       10127 non-null  float64\n",
            " 19  Avg_Utilization_Ratio     10127 non-null  float64\n",
            " 20  F                         10127 non-null  uint8  \n",
            " 21  M                         10127 non-null  uint8  \n",
            " 22  College                   10127 non-null  uint8  \n",
            " 23  Doctorate                 10127 non-null  uint8  \n",
            " 24  Graduate                  10127 non-null  uint8  \n",
            " 25  High School               10127 non-null  uint8  \n",
            " 26  Post-Graduate             10127 non-null  uint8  \n",
            " 27  Uneducated                10127 non-null  uint8  \n",
            " 28  Unknown                   10127 non-null  uint8  \n",
            " 29  Divorced                  10127 non-null  uint8  \n",
            " 30  Married                   10127 non-null  uint8  \n",
            " 31  Single                    10127 non-null  uint8  \n",
            " 32  Unknown                   10127 non-null  uint8  \n",
            " 33  $120K +                   10127 non-null  uint8  \n",
            " 34  $40K - $60K               10127 non-null  uint8  \n",
            " 35  $60K - $80K               10127 non-null  uint8  \n",
            " 36  $80K - $120K              10127 non-null  uint8  \n",
            " 37  Less than $40K            10127 non-null  uint8  \n",
            " 38  Unknown                   10127 non-null  uint8  \n",
            " 39  Blue                      10127 non-null  uint8  \n",
            " 40  Gold                      10127 non-null  uint8  \n",
            " 41  Platinum                  10127 non-null  uint8  \n",
            " 42  Silver                    10127 non-null  uint8  \n",
            "dtypes: float64(5), int64(9), object(6), uint8(23)\n",
            "memory usage: 1.8+ MB\n"
          ]
        }
      ]
    },
    {
      "cell_type": "markdown",
      "source": [
        "Se generan tres columnas \"Unknown\" las cuales serían para Marital_Status, Income_Category y Education_Level, para evitar conflictos se cambia el nombre estas columnas agregando el nombre de la columna original."
      ],
      "metadata": {
        "id": "wUWWiZC_-ZZC"
      }
    },
    {
      "cell_type": "code",
      "source": [
        "datos.columns = ['Attrition_Flag', 'Customer_Age', 'Gender', 'Dependent_count',\n",
        "                 'Education_Level', 'Marital_Status', 'Income_Category', 'Card_Category',\n",
        "                 'Months_on_book', 'Total_Relationship_Count', 'Months_Inactive_12_mon',\n",
        "                 'Contacts_Count_12_mon', 'Credit_Limit', 'Total_Revolving_Bal',\n",
        "                 'Avg_Open_To_Buy', 'Total_Amt_Chng_Q4_Q1', 'Total_Trans_Amt',\n",
        "                 'Total_Trans_Ct', 'Total_Ct_Chng_Q4_Q1', 'Avg_Utilization_Ratio',\n",
        "                 'F', 'M', 'College',\n",
        "                 'Doctorate', 'Graduate', 'High School', 'Post-Graduate', 'Uneducated',\n",
        "                 'Education_Unknown', 'Divorced', 'Married', 'Single', # Cambio de nombre al Unknown de Education\n",
        "                 'Marital_Status_Unknown', '$120K +', '$40K - $60K', '$60K - $80K', # Cambio de nombre al Unknown de Marital Status\n",
        "                 '$80K - $120K', 'Less than $40K', 'Income_Category_Unknown', 'Blue', # Cambio de nombre al Unknown de Income Category\n",
        "                 'Gold', 'Platinum', 'Silver']\n",
        "datos.info()"
      ],
      "metadata": {
        "colab": {
          "base_uri": "https://localhost:8080/"
        },
        "id": "GS2LUxzG-n2R",
        "outputId": "1de38771-c4c7-4de6-b4a7-1e8decc3f435"
      },
      "execution_count": null,
      "outputs": [
        {
          "output_type": "stream",
          "name": "stdout",
          "text": [
            "<class 'pandas.core.frame.DataFrame'>\n",
            "RangeIndex: 10127 entries, 0 to 10126\n",
            "Data columns (total 43 columns):\n",
            " #   Column                    Non-Null Count  Dtype  \n",
            "---  ------                    --------------  -----  \n",
            " 0   Attrition_Flag            10127 non-null  object \n",
            " 1   Customer_Age              10127 non-null  int64  \n",
            " 2   Gender                    10127 non-null  object \n",
            " 3   Dependent_count           10127 non-null  int64  \n",
            " 4   Education_Level           10127 non-null  object \n",
            " 5   Marital_Status            10127 non-null  object \n",
            " 6   Income_Category           10127 non-null  object \n",
            " 7   Card_Category             10127 non-null  object \n",
            " 8   Months_on_book            10127 non-null  int64  \n",
            " 9   Total_Relationship_Count  10127 non-null  int64  \n",
            " 10  Months_Inactive_12_mon    10127 non-null  int64  \n",
            " 11  Contacts_Count_12_mon     10127 non-null  int64  \n",
            " 12  Credit_Limit              10127 non-null  float64\n",
            " 13  Total_Revolving_Bal       10127 non-null  int64  \n",
            " 14  Avg_Open_To_Buy           10127 non-null  float64\n",
            " 15  Total_Amt_Chng_Q4_Q1      10127 non-null  float64\n",
            " 16  Total_Trans_Amt           10127 non-null  int64  \n",
            " 17  Total_Trans_Ct            10127 non-null  int64  \n",
            " 18  Total_Ct_Chng_Q4_Q1       10127 non-null  float64\n",
            " 19  Avg_Utilization_Ratio     10127 non-null  float64\n",
            " 20  F                         10127 non-null  uint8  \n",
            " 21  M                         10127 non-null  uint8  \n",
            " 22  College                   10127 non-null  uint8  \n",
            " 23  Doctorate                 10127 non-null  uint8  \n",
            " 24  Graduate                  10127 non-null  uint8  \n",
            " 25  High School               10127 non-null  uint8  \n",
            " 26  Post-Graduate             10127 non-null  uint8  \n",
            " 27  Uneducated                10127 non-null  uint8  \n",
            " 28  Education_Unknown         10127 non-null  uint8  \n",
            " 29  Divorced                  10127 non-null  uint8  \n",
            " 30  Married                   10127 non-null  uint8  \n",
            " 31  Single                    10127 non-null  uint8  \n",
            " 32  Marital_Status_Unknown    10127 non-null  uint8  \n",
            " 33  $120K +                   10127 non-null  uint8  \n",
            " 34  $40K - $60K               10127 non-null  uint8  \n",
            " 35  $60K - $80K               10127 non-null  uint8  \n",
            " 36  $80K - $120K              10127 non-null  uint8  \n",
            " 37  Less than $40K            10127 non-null  uint8  \n",
            " 38  Income_Category_Unknown   10127 non-null  uint8  \n",
            " 39  Blue                      10127 non-null  uint8  \n",
            " 40  Gold                      10127 non-null  uint8  \n",
            " 41  Platinum                  10127 non-null  uint8  \n",
            " 42  Silver                    10127 non-null  uint8  \n",
            "dtypes: float64(5), int64(9), object(6), uint8(23)\n",
            "memory usage: 1.8+ MB\n"
          ]
        }
      ]
    },
    {
      "cell_type": "markdown",
      "source": [
        "Como ahora ya tenemos las dummy variables creadas, podemos hacer drop de las columnas originales."
      ],
      "metadata": {
        "id": "r810Gq0cAHv7"
      }
    },
    {
      "cell_type": "code",
      "source": [
        "datos_numericos = datos.drop(columns=columnas_categoricas)\n",
        "datos_numericos.sample(5)"
      ],
      "metadata": {
        "colab": {
          "base_uri": "https://localhost:8080/",
          "height": 334
        },
        "id": "YwvuAfXKAG68",
        "outputId": "26e9ae75-3d92-4171-c0c5-925c621d1d18"
      },
      "execution_count": null,
      "outputs": [
        {
          "output_type": "execute_result",
          "data": {
            "text/plain": [
              "         Attrition_Flag  Customer_Age  Dependent_count  Months_on_book  \\\n",
              "1189  Existing Customer            52                1              48   \n",
              "5141  Existing Customer            46                2              36   \n",
              "5350  Attrited Customer            55                2              36   \n",
              "6384  Attrited Customer            48                4              43   \n",
              "2154  Existing Customer            26                1              36   \n",
              "\n",
              "      Total_Relationship_Count  Months_Inactive_12_mon  Contacts_Count_12_mon  \\\n",
              "1189                         4                       3                      3   \n",
              "5141                         3                       3                      4   \n",
              "5350                         4                       3                      2   \n",
              "6384                         3                       2                      4   \n",
              "2154                         3                       4                      3   \n",
              "\n",
              "      Credit_Limit  Total_Revolving_Bal  Avg_Open_To_Buy  ...  $120K +  \\\n",
              "1189        2066.0                 1601            465.0  ...        0   \n",
              "5141        2283.0                 1020           1263.0  ...        0   \n",
              "5350       10241.0                 1545           8696.0  ...        0   \n",
              "6384        1538.0                    0           1538.0  ...        0   \n",
              "2154        2703.0                 1256           1447.0  ...        0   \n",
              "\n",
              "      $40K - $60K  $60K - $80K  $80K - $120K  Less than $40K  \\\n",
              "1189            0            0             1               0   \n",
              "5141            0            0             0               1   \n",
              "5350            0            0             0               0   \n",
              "6384            1            0             0               0   \n",
              "2154            1            0             0               0   \n",
              "\n",
              "      Income_Category_Unknown  Blue  Gold  Platinum  Silver  \n",
              "1189                        0     1     0         0       0  \n",
              "5141                        0     1     0         0       0  \n",
              "5350                        1     1     0         0       0  \n",
              "6384                        0     1     0         0       0  \n",
              "2154                        0     1     0         0       0  \n",
              "\n",
              "[5 rows x 38 columns]"
            ],
            "text/html": [
              "\n",
              "  <div id=\"df-e86dc29a-dab4-4d27-bc89-bd654853cf9d\">\n",
              "    <div class=\"colab-df-container\">\n",
              "      <div>\n",
              "<style scoped>\n",
              "    .dataframe tbody tr th:only-of-type {\n",
              "        vertical-align: middle;\n",
              "    }\n",
              "\n",
              "    .dataframe tbody tr th {\n",
              "        vertical-align: top;\n",
              "    }\n",
              "\n",
              "    .dataframe thead th {\n",
              "        text-align: right;\n",
              "    }\n",
              "</style>\n",
              "<table border=\"1\" class=\"dataframe\">\n",
              "  <thead>\n",
              "    <tr style=\"text-align: right;\">\n",
              "      <th></th>\n",
              "      <th>Attrition_Flag</th>\n",
              "      <th>Customer_Age</th>\n",
              "      <th>Dependent_count</th>\n",
              "      <th>Months_on_book</th>\n",
              "      <th>Total_Relationship_Count</th>\n",
              "      <th>Months_Inactive_12_mon</th>\n",
              "      <th>Contacts_Count_12_mon</th>\n",
              "      <th>Credit_Limit</th>\n",
              "      <th>Total_Revolving_Bal</th>\n",
              "      <th>Avg_Open_To_Buy</th>\n",
              "      <th>...</th>\n",
              "      <th>$120K +</th>\n",
              "      <th>$40K - $60K</th>\n",
              "      <th>$60K - $80K</th>\n",
              "      <th>$80K - $120K</th>\n",
              "      <th>Less than $40K</th>\n",
              "      <th>Income_Category_Unknown</th>\n",
              "      <th>Blue</th>\n",
              "      <th>Gold</th>\n",
              "      <th>Platinum</th>\n",
              "      <th>Silver</th>\n",
              "    </tr>\n",
              "  </thead>\n",
              "  <tbody>\n",
              "    <tr>\n",
              "      <th>1189</th>\n",
              "      <td>Existing Customer</td>\n",
              "      <td>52</td>\n",
              "      <td>1</td>\n",
              "      <td>48</td>\n",
              "      <td>4</td>\n",
              "      <td>3</td>\n",
              "      <td>3</td>\n",
              "      <td>2066.0</td>\n",
              "      <td>1601</td>\n",
              "      <td>465.0</td>\n",
              "      <td>...</td>\n",
              "      <td>0</td>\n",
              "      <td>0</td>\n",
              "      <td>0</td>\n",
              "      <td>1</td>\n",
              "      <td>0</td>\n",
              "      <td>0</td>\n",
              "      <td>1</td>\n",
              "      <td>0</td>\n",
              "      <td>0</td>\n",
              "      <td>0</td>\n",
              "    </tr>\n",
              "    <tr>\n",
              "      <th>5141</th>\n",
              "      <td>Existing Customer</td>\n",
              "      <td>46</td>\n",
              "      <td>2</td>\n",
              "      <td>36</td>\n",
              "      <td>3</td>\n",
              "      <td>3</td>\n",
              "      <td>4</td>\n",
              "      <td>2283.0</td>\n",
              "      <td>1020</td>\n",
              "      <td>1263.0</td>\n",
              "      <td>...</td>\n",
              "      <td>0</td>\n",
              "      <td>0</td>\n",
              "      <td>0</td>\n",
              "      <td>0</td>\n",
              "      <td>1</td>\n",
              "      <td>0</td>\n",
              "      <td>1</td>\n",
              "      <td>0</td>\n",
              "      <td>0</td>\n",
              "      <td>0</td>\n",
              "    </tr>\n",
              "    <tr>\n",
              "      <th>5350</th>\n",
              "      <td>Attrited Customer</td>\n",
              "      <td>55</td>\n",
              "      <td>2</td>\n",
              "      <td>36</td>\n",
              "      <td>4</td>\n",
              "      <td>3</td>\n",
              "      <td>2</td>\n",
              "      <td>10241.0</td>\n",
              "      <td>1545</td>\n",
              "      <td>8696.0</td>\n",
              "      <td>...</td>\n",
              "      <td>0</td>\n",
              "      <td>0</td>\n",
              "      <td>0</td>\n",
              "      <td>0</td>\n",
              "      <td>0</td>\n",
              "      <td>1</td>\n",
              "      <td>1</td>\n",
              "      <td>0</td>\n",
              "      <td>0</td>\n",
              "      <td>0</td>\n",
              "    </tr>\n",
              "    <tr>\n",
              "      <th>6384</th>\n",
              "      <td>Attrited Customer</td>\n",
              "      <td>48</td>\n",
              "      <td>4</td>\n",
              "      <td>43</td>\n",
              "      <td>3</td>\n",
              "      <td>2</td>\n",
              "      <td>4</td>\n",
              "      <td>1538.0</td>\n",
              "      <td>0</td>\n",
              "      <td>1538.0</td>\n",
              "      <td>...</td>\n",
              "      <td>0</td>\n",
              "      <td>1</td>\n",
              "      <td>0</td>\n",
              "      <td>0</td>\n",
              "      <td>0</td>\n",
              "      <td>0</td>\n",
              "      <td>1</td>\n",
              "      <td>0</td>\n",
              "      <td>0</td>\n",
              "      <td>0</td>\n",
              "    </tr>\n",
              "    <tr>\n",
              "      <th>2154</th>\n",
              "      <td>Existing Customer</td>\n",
              "      <td>26</td>\n",
              "      <td>1</td>\n",
              "      <td>36</td>\n",
              "      <td>3</td>\n",
              "      <td>4</td>\n",
              "      <td>3</td>\n",
              "      <td>2703.0</td>\n",
              "      <td>1256</td>\n",
              "      <td>1447.0</td>\n",
              "      <td>...</td>\n",
              "      <td>0</td>\n",
              "      <td>1</td>\n",
              "      <td>0</td>\n",
              "      <td>0</td>\n",
              "      <td>0</td>\n",
              "      <td>0</td>\n",
              "      <td>1</td>\n",
              "      <td>0</td>\n",
              "      <td>0</td>\n",
              "      <td>0</td>\n",
              "    </tr>\n",
              "  </tbody>\n",
              "</table>\n",
              "<p>5 rows × 38 columns</p>\n",
              "</div>\n",
              "      <button class=\"colab-df-convert\" onclick=\"convertToInteractive('df-e86dc29a-dab4-4d27-bc89-bd654853cf9d')\"\n",
              "              title=\"Convert this dataframe to an interactive table.\"\n",
              "              style=\"display:none;\">\n",
              "        \n",
              "  <svg xmlns=\"http://www.w3.org/2000/svg\" height=\"24px\"viewBox=\"0 0 24 24\"\n",
              "       width=\"24px\">\n",
              "    <path d=\"M0 0h24v24H0V0z\" fill=\"none\"/>\n",
              "    <path d=\"M18.56 5.44l.94 2.06.94-2.06 2.06-.94-2.06-.94-.94-2.06-.94 2.06-2.06.94zm-11 1L8.5 8.5l.94-2.06 2.06-.94-2.06-.94L8.5 2.5l-.94 2.06-2.06.94zm10 10l.94 2.06.94-2.06 2.06-.94-2.06-.94-.94-2.06-.94 2.06-2.06.94z\"/><path d=\"M17.41 7.96l-1.37-1.37c-.4-.4-.92-.59-1.43-.59-.52 0-1.04.2-1.43.59L10.3 9.45l-7.72 7.72c-.78.78-.78 2.05 0 2.83L4 21.41c.39.39.9.59 1.41.59.51 0 1.02-.2 1.41-.59l7.78-7.78 2.81-2.81c.8-.78.8-2.07 0-2.86zM5.41 20L4 18.59l7.72-7.72 1.47 1.35L5.41 20z\"/>\n",
              "  </svg>\n",
              "      </button>\n",
              "      \n",
              "  <style>\n",
              "    .colab-df-container {\n",
              "      display:flex;\n",
              "      flex-wrap:wrap;\n",
              "      gap: 12px;\n",
              "    }\n",
              "\n",
              "    .colab-df-convert {\n",
              "      background-color: #E8F0FE;\n",
              "      border: none;\n",
              "      border-radius: 50%;\n",
              "      cursor: pointer;\n",
              "      display: none;\n",
              "      fill: #1967D2;\n",
              "      height: 32px;\n",
              "      padding: 0 0 0 0;\n",
              "      width: 32px;\n",
              "    }\n",
              "\n",
              "    .colab-df-convert:hover {\n",
              "      background-color: #E2EBFA;\n",
              "      box-shadow: 0px 1px 2px rgba(60, 64, 67, 0.3), 0px 1px 3px 1px rgba(60, 64, 67, 0.15);\n",
              "      fill: #174EA6;\n",
              "    }\n",
              "\n",
              "    [theme=dark] .colab-df-convert {\n",
              "      background-color: #3B4455;\n",
              "      fill: #D2E3FC;\n",
              "    }\n",
              "\n",
              "    [theme=dark] .colab-df-convert:hover {\n",
              "      background-color: #434B5C;\n",
              "      box-shadow: 0px 1px 3px 1px rgba(0, 0, 0, 0.15);\n",
              "      filter: drop-shadow(0px 1px 2px rgba(0, 0, 0, 0.3));\n",
              "      fill: #FFFFFF;\n",
              "    }\n",
              "  </style>\n",
              "\n",
              "      <script>\n",
              "        const buttonEl =\n",
              "          document.querySelector('#df-e86dc29a-dab4-4d27-bc89-bd654853cf9d button.colab-df-convert');\n",
              "        buttonEl.style.display =\n",
              "          google.colab.kernel.accessAllowed ? 'block' : 'none';\n",
              "\n",
              "        async function convertToInteractive(key) {\n",
              "          const element = document.querySelector('#df-e86dc29a-dab4-4d27-bc89-bd654853cf9d');\n",
              "          const dataTable =\n",
              "            await google.colab.kernel.invokeFunction('convertToInteractive',\n",
              "                                                     [key], {});\n",
              "          if (!dataTable) return;\n",
              "\n",
              "          const docLinkHtml = 'Like what you see? Visit the ' +\n",
              "            '<a target=\"_blank\" href=https://colab.research.google.com/notebooks/data_table.ipynb>data table notebook</a>'\n",
              "            + ' to learn more about interactive tables.';\n",
              "          element.innerHTML = '';\n",
              "          dataTable['output_type'] = 'display_data';\n",
              "          await google.colab.output.renderOutput(dataTable, element);\n",
              "          const docLink = document.createElement('div');\n",
              "          docLink.innerHTML = docLinkHtml;\n",
              "          element.appendChild(docLink);\n",
              "        }\n",
              "      </script>\n",
              "    </div>\n",
              "  </div>\n",
              "  "
            ]
          },
          "metadata": {},
          "execution_count": 14
        }
      ]
    },
    {
      "cell_type": "markdown",
      "source": [
        "La diferencia entre los datos originales y los procesados, es que en una estaban las columnas categoricas que contenían texto (datos) y en la otra solo quedaron las columnas por cada categoría y tienen un 1 o 0 dependiendo de si esa fila de datos pertenece o no a esa categoría."
      ],
      "metadata": {
        "id": "Di47kh_GA4ai"
      }
    },
    {
      "cell_type": "code",
      "source": [
        "datos.columns"
      ],
      "metadata": {
        "colab": {
          "base_uri": "https://localhost:8080/"
        },
        "id": "nlVUiIbSBHI5",
        "outputId": "47300a68-1848-41dc-e395-333035e373f6"
      },
      "execution_count": null,
      "outputs": [
        {
          "output_type": "execute_result",
          "data": {
            "text/plain": [
              "Index(['Attrition_Flag', 'Customer_Age', 'Gender', 'Dependent_count',\n",
              "       'Education_Level', 'Marital_Status', 'Income_Category', 'Card_Category',\n",
              "       'Months_on_book', 'Total_Relationship_Count', 'Months_Inactive_12_mon',\n",
              "       'Contacts_Count_12_mon', 'Credit_Limit', 'Total_Revolving_Bal',\n",
              "       'Avg_Open_To_Buy', 'Total_Amt_Chng_Q4_Q1', 'Total_Trans_Amt',\n",
              "       'Total_Trans_Ct', 'Total_Ct_Chng_Q4_Q1', 'Avg_Utilization_Ratio', 'F',\n",
              "       'M', 'College', 'Doctorate', 'Graduate', 'High School', 'Post-Graduate',\n",
              "       'Uneducated', 'Education_Unknown', 'Divorced', 'Married', 'Single',\n",
              "       'Marital_Status_Unknown', '$120K +', '$40K - $60K', '$60K - $80K',\n",
              "       '$80K - $120K', 'Less than $40K', 'Income_Category_Unknown', 'Blue',\n",
              "       'Gold', 'Platinum', 'Silver'],\n",
              "      dtype='object')"
            ]
          },
          "metadata": {},
          "execution_count": 15
        }
      ]
    },
    {
      "cell_type": "code",
      "source": [
        "datos_numericos.columns"
      ],
      "metadata": {
        "colab": {
          "base_uri": "https://localhost:8080/"
        },
        "id": "F7v9BkLTBItH",
        "outputId": "ecd7a021-98b7-4f89-f38d-60d0c97d49ac"
      },
      "execution_count": null,
      "outputs": [
        {
          "output_type": "execute_result",
          "data": {
            "text/plain": [
              "Index(['Attrition_Flag', 'Customer_Age', 'Dependent_count', 'Months_on_book',\n",
              "       'Total_Relationship_Count', 'Months_Inactive_12_mon',\n",
              "       'Contacts_Count_12_mon', 'Credit_Limit', 'Total_Revolving_Bal',\n",
              "       'Avg_Open_To_Buy', 'Total_Amt_Chng_Q4_Q1', 'Total_Trans_Amt',\n",
              "       'Total_Trans_Ct', 'Total_Ct_Chng_Q4_Q1', 'Avg_Utilization_Ratio', 'F',\n",
              "       'M', 'College', 'Doctorate', 'Graduate', 'High School', 'Post-Graduate',\n",
              "       'Uneducated', 'Education_Unknown', 'Divorced', 'Married', 'Single',\n",
              "       'Marital_Status_Unknown', '$120K +', '$40K - $60K', '$60K - $80K',\n",
              "       '$80K - $120K', 'Less than $40K', 'Income_Category_Unknown', 'Blue',\n",
              "       'Gold', 'Platinum', 'Silver'],\n",
              "      dtype='object')"
            ]
          },
          "metadata": {},
          "execution_count": 16
        }
      ]
    },
    {
      "cell_type": "markdown",
      "source": [
        "La columna categorica restante es 'Attrition_Flag' la cual sería la variable objetivo que queremos predecir, en este caso sería 1 si el cliente abandonó el banco o 0 si el cliente continúa en el mismo banco."
      ],
      "metadata": {
        "id": "lZncMndlBvL2"
      }
    },
    {
      "cell_type": "code",
      "source": [
        "datos_numericos['Attrition_Flag'].value_counts()"
      ],
      "metadata": {
        "colab": {
          "base_uri": "https://localhost:8080/"
        },
        "id": "Z6DBGciXEPuB",
        "outputId": "1044bd97-8baa-4a98-a4de-10fb3ef48897"
      },
      "execution_count": null,
      "outputs": [
        {
          "output_type": "execute_result",
          "data": {
            "text/plain": [
              "Existing Customer    8500\n",
              "Attrited Customer    1627\n",
              "Name: Attrition_Flag, dtype: int64"
            ]
          },
          "metadata": {},
          "execution_count": 17
        }
      ]
    },
    {
      "cell_type": "code",
      "source": [
        "datos_numericos['Attrition_Flag'] = datos_numericos['Attrition_Flag'].apply(lambda x: 1 if x == 'Attrited Customer' else 0)"
      ],
      "metadata": {
        "id": "g3WI13EqDWzD"
      },
      "execution_count": null,
      "outputs": []
    },
    {
      "cell_type": "markdown",
      "source": [
        "# Entrenamiento del algoritmo\n",
        "\n",
        "## Correlacion entre variables"
      ],
      "metadata": {
        "id": "Vm-MFnjFHms9"
      }
    },
    {
      "cell_type": "code",
      "source": [
        "# Revisamos la correlación de variables en los datos para entrenar\n",
        "corr_matrix = datos_numericos.corr()\n",
        "plt.figure(figsize=(20, 20)) # Hacer la gráfica más grande\n",
        "sns.heatmap(data=corr_matrix)\n",
        "plt.show()"
      ],
      "metadata": {
        "colab": {
          "base_uri": "https://localhost:8080/",
          "height": 1000
        },
        "id": "wlTyhnQCH9AB",
        "outputId": "a224cae3-3ec2-4ab5-ac58-5a6ec9466964"
      },
      "execution_count": null,
      "outputs": [
        {
          "output_type": "display_data",
          "data": {
            "text/plain": [
              "<Figure size 1440x1440 with 2 Axes>"
            ],
            "image/png": "[encoded data removed]"
          },
          "metadata": {
            "needs_background": "light"
          }
        }
      ]
    },
    {
      "cell_type": "code",
      "source": [
        "# Volvemos las correlaciones negativas a positivas\n",
        "abs_corr = np.abs(corr_matrix[\"Attrition_Flag\"])\n",
        "abs_corr"
      ],
      "metadata": {
        "colab": {
          "base_uri": "https://localhost:8080/"
        },
        "id": "_d72hQj75wq7",
        "outputId": "ef271069-c4d4-48e8-cba8-9bfb7616bb3b"
      },
      "execution_count": null,
      "outputs": [
        {
          "output_type": "execute_result",
          "data": {
            "text/plain": [
              "Attrition_Flag              1.000000\n",
              "Customer_Age                0.018203\n",
              "Dependent_count             0.018991\n",
              "Months_on_book              0.013687\n",
              "Total_Relationship_Count    0.150005\n",
              "Months_Inactive_12_mon      0.152449\n",
              "Contacts_Count_12_mon       0.204491\n",
              "Credit_Limit                0.023873\n",
              "Total_Revolving_Bal         0.263053\n",
              "Avg_Open_To_Buy             0.000285\n",
              "Total_Amt_Chng_Q4_Q1        0.131063\n",
              "Total_Trans_Amt             0.168598\n",
              "Total_Trans_Ct              0.371403\n",
              "Total_Ct_Chng_Q4_Q1         0.290054\n",
              "Avg_Utilization_Ratio       0.178410\n",
              "F                           0.037272\n",
              "M                           0.037272\n",
              "College                     0.007840\n",
              "Doctorate                   0.029386\n",
              "Graduate                    0.009046\n",
              "High School                 0.011730\n",
              "Post-Graduate               0.011127\n",
              "Uneducated                  0.001444\n",
              "Education_Unknown           0.009005\n",
              "Divorced                    0.000850\n",
              "Married                     0.023735\n",
              "Single                      0.019037\n",
              "Marital_Status_Unknown      0.008904\n",
              "$120K +                     0.009584\n",
              "$40K - $60K                 0.011688\n",
              "$60K - $80K                 0.028221\n",
              "$80K - $120K                0.003459\n",
              "Less than $40K              0.022466\n",
              "Income_Category_Unknown     0.007179\n",
              "Blue                        0.003216\n",
              "Gold                        0.005973\n",
              "Platinum                    0.010823\n",
              "Silver                      0.008467\n",
              "Name: Attrition_Flag, dtype: float64"
            ]
          },
          "metadata": {},
          "execution_count": 37
        }
      ]
    },
    {
      "cell_type": "code",
      "source": [
        "# Nos quedamos con las correlaciones que estén arriba de 0.01\n",
        "correlacion_filtrada = abs_corr[abs_corr > 0.01]\n",
        "correlacion_filtrada"
      ],
      "metadata": {
        "colab": {
          "base_uri": "https://localhost:8080/"
        },
        "id": "RmguFFPa6ozg",
        "outputId": "cf08d64a-c784-4249-faa8-06ea08ed0bad"
      },
      "execution_count": null,
      "outputs": [
        {
          "output_type": "execute_result",
          "data": {
            "text/plain": [
              "Attrition_Flag              1.000000\n",
              "Customer_Age                0.018203\n",
              "Dependent_count             0.018991\n",
              "Months_on_book              0.013687\n",
              "Total_Relationship_Count    0.150005\n",
              "Months_Inactive_12_mon      0.152449\n",
              "Contacts_Count_12_mon       0.204491\n",
              "Credit_Limit                0.023873\n",
              "Total_Revolving_Bal         0.263053\n",
              "Total_Amt_Chng_Q4_Q1        0.131063\n",
              "Total_Trans_Amt             0.168598\n",
              "Total_Trans_Ct              0.371403\n",
              "Total_Ct_Chng_Q4_Q1         0.290054\n",
              "Avg_Utilization_Ratio       0.178410\n",
              "F                           0.037272\n",
              "M                           0.037272\n",
              "Doctorate                   0.029386\n",
              "High School                 0.011730\n",
              "Post-Graduate               0.011127\n",
              "Married                     0.023735\n",
              "Single                      0.019037\n",
              "$40K - $60K                 0.011688\n",
              "$60K - $80K                 0.028221\n",
              "Less than $40K              0.022466\n",
              "Platinum                    0.010823\n",
              "Name: Attrition_Flag, dtype: float64"
            ]
          },
          "metadata": {},
          "execution_count": 41
        }
      ]
    },
    {
      "cell_type": "markdown",
      "source": [
        "Una vez se estableció el mínimo de correlación entre las variables que dan información y la variable objetivo, nos quedamos con las variables que pasen el mínimo para realizar el entrenamiento del modelo. Pero antes entrenamos el modelo con todas las variables obtenidas luego del procesamiento para efectos de comparación."
      ],
      "metadata": {
        "id": "mWZcrKjh7Gag"
      }
    },
    {
      "cell_type": "markdown",
      "source": [
        "##Entrenamiento con todos los datos"
      ],
      "metadata": {
        "id": "luBgAlJ6GxDP"
      }
    },
    {
      "cell_type": "code",
      "source": [
        "# Separamos los datos en entrenamiento y la variable objetivo\n",
        "X = datos_numericos.drop(columns=['Attrition_Flag'])\n",
        "y = datos_numericos['Attrition_Flag']"
      ],
      "metadata": {
        "id": "1i4wfUTFHmY6"
      },
      "execution_count": null,
      "outputs": []
    },
    {
      "cell_type": "code",
      "source": [
        "# Division del set de datos\n",
        "from sklearn.model_selection import train_test_split\n",
        "\n",
        "# Divimos los datos en entrenamiento y pruebas\n",
        "X_train, X_test, y_train, y_test = train_test_split(X, y, test_size=0.3, random_state=42)"
      ],
      "metadata": {
        "id": "WkGS81eCKauz"
      },
      "execution_count": null,
      "outputs": []
    },
    {
      "cell_type": "code",
      "source": [
        "# Entrenamiento del modelo\n",
        "from sklearn.linear_model import LogisticRegression\n",
        "# Inicializamos el modelo\n",
        "logistic = LogisticRegression()\n",
        "# Entrenamos\n",
        "logistic.fit(X_train, y_train) # Pasamos los datos para entrenar el modelo, y la variable objetivo a predecir"
      ],
      "metadata": {
        "colab": {
          "base_uri": "https://localhost:8080/"
        },
        "id": "KX-jLQ36Kybd",
        "outputId": "ab6bf886-a615-469e-f737-ae71e16eabd6"
      },
      "execution_count": null,
      "outputs": [
        {
          "output_type": "stream",
          "name": "stderr",
          "text": [
            "/usr/local/lib/python3.7/dist-packages/sklearn/linear_model/_logistic.py:818: ConvergenceWarning: lbfgs failed to converge (status=1):\n",
            "STOP: TOTAL NO. of ITERATIONS REACHED LIMIT.\n",
            "\n",
            "Increase the number of iterations (max_iter) or scale the data as shown in:\n",
            "    https://scikit-learn.org/stable/modules/preprocessing.html\n",
            "Please also refer to the documentation for alternative solver options:\n",
            "    https://scikit-learn.org/stable/modules/linear_model.html#logistic-regression\n",
            "  extra_warning_msg=_LOGISTIC_SOLVER_CONVERGENCE_MSG,\n"
          ]
        },
        {
          "output_type": "execute_result",
          "data": {
            "text/plain": [
              "LogisticRegression()"
            ]
          },
          "metadata": {},
          "execution_count": 24
        }
      ]
    },
    {
      "cell_type": "code",
      "source": [
        "# Obtenemos las predicciones\n",
        "y_pred = logistic.predict(X_test)"
      ],
      "metadata": {
        "id": "8heGaInrLGs4"
      },
      "execution_count": null,
      "outputs": []
    },
    {
      "cell_type": "markdown",
      "source": [
        "## Ver que tan bueno es el modelo"
      ],
      "metadata": {
        "id": "5ZQYEgn6LyWQ"
      }
    },
    {
      "cell_type": "code",
      "source": [
        "# Importamos las metricas\n",
        "from sklearn.metrics import accuracy_score, confusion_matrix, roc_auc_score, roc_curve, auc\n",
        "# Medimos el accuracy score (Precisión)\n",
        "acu_score = accuracy_score(y_test, y_pred)\n",
        "print(f\"Precisión del modelo: {acu_score*100} %\\n\")\n",
        "# Medimos la matriz de confusion\n",
        "matrix_result = confusion_matrix(y_test, y_pred)\n",
        "sns.heatmap(matrix_result, annot=True, fmt='g')\n",
        "plt.title(\"Matriz de confusion del modelo\")\n",
        "plt.show()"
      ],
      "metadata": {
        "colab": {
          "base_uri": "https://localhost:8080/",
          "height": 316
        },
        "id": "HgxzPw1iL1gD",
        "outputId": "443e51a9-6318-4502-bf4c-61f2fc180fe9"
      },
      "execution_count": null,
      "outputs": [
        {
          "output_type": "stream",
          "name": "stdout",
          "text": [
            "Precisión del modelo: 87.8907535373478 %\n",
            "\n"
          ]
        },
        {
          "output_type": "display_data",
          "data": {
            "text/plain": [
              "<Figure size 432x288 with 2 Axes>"
            ],
            "image/png": "[encoded data removed]"
          },
          "metadata": {
            "needs_background": "light"
          }
        }
      ]
    },
    {
      "cell_type": "markdown",
      "source": [
        "Del lado izquierdo se puede ver los valores reales de la variable objetivo y abajo los valores resultantes de la predicción del modelo. En este caso tenemos:\n",
        "* 2482 verdaderos negativos (True Negatives) que quiere decir que son clientes que se quedaron en el banco y el modelo hizo la predicción correcta.\n",
        "* 307 falsos negativos (False Negatives), clientes que abandonaron el banco pero el modelo predijo que se quedaban en el banco.\n",
        "* 61 falsos positivos (False Positives), clientes que se quedaron en el banco y el modelo predijo que lo abandonaron.\n",
        "* 189 verdaderos positivos (True Positives), que son clientes que abandonaron y el modelo lo predijo de esa manera.\n"
      ],
      "metadata": {
        "id": "zHNyVo87OPSt"
      }
    },
    {
      "cell_type": "code",
      "source": [
        "fpr, tpr, threshold = roc_curve(y_test, y_pred, pos_label=1)\n",
        "roc_auc = auc(fpr, tpr)\n",
        " \n",
        "plt.figure()\n",
        "plt.plot(fpr, tpr, color='orange', label='ROC curve (area = %0.2f)' % roc_auc)\n",
        "plt.plot([0,1], color='navy',  linestyle='--')\n",
        " \n",
        "plt.xlabel('False Positive Rate')\n",
        "plt.ylabel('True Positive Rate')\n",
        "plt.title('Receiver operating characteristic example')\n",
        "plt.legend(loc=\"lower right\")\n",
        " \n",
        "plt.show()"
      ],
      "metadata": {
        "colab": {
          "base_uri": "https://localhost:8080/",
          "height": 295
        },
        "id": "APdSHs6RPTkn",
        "outputId": "a6a49e3d-00f7-4ff3-8c1e-3326c78caf9d"
      },
      "execution_count": null,
      "outputs": [
        {
          "output_type": "display_data",
          "data": {
            "text/plain": [
              "<Figure size 432x288 with 1 Axes>"
            ],
            "image/png": "[encoded data removed]"
          },
          "metadata": {
            "needs_background": "light"
          }
        }
      ]
    },
    {
      "cell_type": "markdown",
      "source": [
        "El resultado de ROC es debido a que los datos se encuentran desbalanceados, es decir, tenemos más datos que corresponden a la clase de los clientes que se quedan en el banco (+8000 datos) y tenemos menos datos para la clase que abandona el banco (menos de 2000 datos) lo que puede causar cierta \"confusion\" en el modelo, porque tiende a sesgarse en las predicciones dando como resultado más predicciones donde el cliente se queda que en las que abandona."
      ],
      "metadata": {
        "id": "0Cq2vhpMP-Q2"
      }
    },
    {
      "cell_type": "markdown",
      "source": [
        "## Entrenamiento con las variables que tienen una correlación mayor a 0.01"
      ],
      "metadata": {
        "id": "TvAUqiVs7jHY"
      }
    },
    {
      "cell_type": "code",
      "source": [
        "# Separamos los datos en entrenamiento y la variable objetivo\n",
        "datos_con_correlacion_minima = datos_numericos[correlacion_filtrada.index]\n",
        "X_cor = datos_con_correlacion_minima.drop(columns=['Attrition_Flag'])\n",
        "y_cor = datos_con_correlacion_minima['Attrition_Flag']\n",
        "# Division del set de datos\n",
        "from sklearn.model_selection import train_test_split\n",
        "\n",
        "# Divimos los datos en entrenamiento y pruebas\n",
        "X_train_cor, X_test_cor, y_train_cor, y_test_cor = train_test_split(X_cor, y_cor, test_size=0.3, random_state=42)\n",
        "# Entrenamiento del modelo\n",
        "from sklearn.linear_model import LogisticRegression\n",
        "# Inicializamos el modelo\n",
        "logistic_cor = LogisticRegression()\n",
        "# Entrenamos\n",
        "logistic_cor.fit(X_train_cor, y_train_cor) # Pasamos los datos para entrenar el modelo, y la variable objetivo a predecir\n",
        "# Obtenemos las predicciones\n",
        "y_pred_cor = logistic_cor.predict(X_test_cor)"
      ],
      "metadata": {
        "colab": {
          "base_uri": "https://localhost:8080/"
        },
        "id": "SBIuhQzZ7n88",
        "outputId": "e5472e43-f066-46d0-f100-76bea15633d9"
      },
      "execution_count": null,
      "outputs": [
        {
          "output_type": "stream",
          "name": "stderr",
          "text": [
            "/usr/local/lib/python3.7/dist-packages/sklearn/linear_model/_logistic.py:818: ConvergenceWarning: lbfgs failed to converge (status=1):\n",
            "STOP: TOTAL NO. of ITERATIONS REACHED LIMIT.\n",
            "\n",
            "Increase the number of iterations (max_iter) or scale the data as shown in:\n",
            "    https://scikit-learn.org/stable/modules/preprocessing.html\n",
            "Please also refer to the documentation for alternative solver options:\n",
            "    https://scikit-learn.org/stable/modules/linear_model.html#logistic-regression\n",
            "  extra_warning_msg=_LOGISTIC_SOLVER_CONVERGENCE_MSG,\n"
          ]
        }
      ]
    },
    {
      "cell_type": "markdown",
      "source": [
        "Obtenemos las métricas del desempeño del modelo con los datos filtrados."
      ],
      "metadata": {
        "id": "eKvUOyow8cEL"
      }
    },
    {
      "cell_type": "code",
      "source": [
        "# Importamos las metricas\n",
        "from sklearn.metrics import accuracy_score, confusion_matrix, roc_auc_score, roc_curve, auc\n",
        "# Medimos el accuracy score (Precisión)\n",
        "acu_score_cor = accuracy_score(y_test_cor, y_pred_cor)\n",
        "print(f\"Precisión del modelo: {acu_score_cor*100} %\\n\")\n",
        "# Medimos la matriz de confusion\n",
        "matrix_result_cor = confusion_matrix(y_test_cor, y_pred_cor)\n",
        "sns.heatmap(matrix_result_cor, annot=True, fmt='g')\n",
        "plt.title(\"Matriz de confusion del modelo\")\n",
        "plt.show()"
      ],
      "metadata": {
        "colab": {
          "base_uri": "https://localhost:8080/",
          "height": 316
        },
        "id": "X_-OvclT8bm6",
        "outputId": "ca1a13f9-a24f-4540-c867-812cf899479e"
      },
      "execution_count": null,
      "outputs": [
        {
          "output_type": "stream",
          "name": "stdout",
          "text": [
            "Precisión del modelo: 86.67324777887463 %\n",
            "\n"
          ]
        },
        {
          "output_type": "display_data",
          "data": {
            "text/plain": [
              "<Figure size 432x288 with 2 Axes>"
            ],
            "image/png": "[encoded data removed]"
          },
          "metadata": {
            "needs_background": "light"
          }
        }
      ]
    },
    {
      "cell_type": "code",
      "source": [
        "fpr_cor, tpr_cor, threshold_cor = roc_curve(y_test_cor, y_pred_cor, pos_label=1)\n",
        "roc_auc_cor = auc(fpr_cor, tpr_cor)\n",
        " \n",
        "plt.figure()\n",
        "plt.plot(fpr_cor, tpr_cor, color='orange', label='ROC curve (area = %0.2f)' % roc_auc_cor)\n",
        "plt.plot([0,1], color='navy',  linestyle='--')\n",
        " \n",
        "plt.xlabel('False Positive Rate')\n",
        "plt.ylabel('True Positive Rate')\n",
        "plt.title('Receiver operating characteristic example')\n",
        "plt.legend(loc=\"lower right\")\n",
        " \n",
        "plt.show()"
      ],
      "metadata": {
        "colab": {
          "base_uri": "https://localhost:8080/",
          "height": 295
        },
        "id": "gRn2H2g29WBd",
        "outputId": "dedcd88c-5cda-497c-9c00-43e20e07fea4"
      },
      "execution_count": null,
      "outputs": [
        {
          "output_type": "display_data",
          "data": {
            "text/plain": [
              "<Figure size 432x288 with 1 Axes>"
            ],
            "image/png": "[encoded data removed]"
          },
          "metadata": {
            "needs_background": "light"
          }
        }
      ]
    },
    {
      "cell_type": "markdown",
      "source": [
        "El modelo filtrando por las variables que tengan una correlación mínima de 0.01 bajo en su desempeño, dando como resultado un incremento en los falsos positivos y falsos negativos."
      ],
      "metadata": {
        "id": "o2rLCy5f82z9"
      }
    },
    {
      "cell_type": "markdown",
      "source": [
        "##Selección del modelo:"
      ],
      "metadata": {
        "id": "Ml6KycsCFnLo"
      }
    },
    {
      "cell_type": "markdown",
      "source": [
        "Nos quedamos con el primer modelo, al presentar una mayor precisión:"
      ],
      "metadata": {
        "id": "nIsYlPUdFvOL"
      }
    },
    {
      "cell_type": "code",
      "source": [
        "# Guardar modelo\n",
        "import pickle\n",
        "pickle.dump(logistic, open('logistic_regression_model.pkl', 'wb'))"
      ],
      "metadata": {
        "id": "FVLsSCiMQxw3"
      },
      "execution_count": null,
      "outputs": []
    },
    {
      "cell_type": "code",
      "source": [
        "# Cargar modelo guardado\n",
        "modelo_guardado = pickle.load(open('logistic_regression_model.pkl', 'rb'))\n",
        "print(modelo_guardado)"
      ],
      "metadata": {
        "colab": {
          "base_uri": "https://localhost:8080/"
        },
        "id": "9dE_suE9RYPf",
        "outputId": "32a963e6-47e9-4237-9bf0-556f9b113f40"
      },
      "execution_count": null,
      "outputs": [
        {
          "output_type": "stream",
          "name": "stdout",
          "text": [
            "LogisticRegression()\n"
          ]
        }
      ]
    }
  ]
}